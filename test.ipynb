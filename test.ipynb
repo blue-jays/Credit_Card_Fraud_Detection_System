{
 "cells": [
  {
   "cell_type": "code",
   "execution_count": 474,
   "metadata": {},
   "outputs": [],
   "source": [
    "import pandas as pd \n",
    "import numpy as np\n",
    "import matplotlib.pyplot as plt \n",
    "import seaborn as sns \n",
    "\n"
   ]
  },
  {
   "cell_type": "code",
   "execution_count": 488,
   "metadata": {},
   "outputs": [],
   "source": [
    "df = pd.read_csv(\"CreditCardData.csv\")\n",
    "df\n",
    "\n",
    "df0 = df.copy()"
   ]
  },
  {
   "cell_type": "markdown",
   "metadata": {},
   "source": [
    "# Problem Statement\n",
    "Every year billions of dollars are lost in fraudulent transaction by credit card. Today we are going to explore those into  depth. \n"
   ]
  },
  {
   "cell_type": "code",
   "execution_count": 476,
   "metadata": {},
   "outputs": [
    {
     "name": "stdout",
     "output_type": "stream",
     "text": [
      "<class 'pandas.core.frame.DataFrame'>\n",
      "RangeIndex: 100000 entries, 0 to 99999\n",
      "Data columns (total 16 columns):\n",
      " #   Column                  Non-Null Count   Dtype  \n",
      "---  ------                  --------------   -----  \n",
      " 0   Transaction ID          100000 non-null  object \n",
      " 1   Date                    100000 non-null  object \n",
      " 2   Day of Week             100000 non-null  object \n",
      " 3   Time                    100000 non-null  int64  \n",
      " 4   Type of Card            100000 non-null  object \n",
      " 5   Entry Mode              100000 non-null  object \n",
      " 6   Amount                  99994 non-null   object \n",
      " 7   Type of Transaction     100000 non-null  object \n",
      " 8   Merchant Group          99990 non-null   object \n",
      " 9   Country of Transaction  100000 non-null  object \n",
      " 10  Shipping Address        99995 non-null   object \n",
      " 11  Country of Residence    100000 non-null  object \n",
      " 12  Gender                  99996 non-null   object \n",
      " 13  Age                     100000 non-null  float64\n",
      " 14  Bank                    100000 non-null  object \n",
      " 15  Fraud                   100000 non-null  int64  \n",
      "dtypes: float64(1), int64(2), object(13)\n",
      "memory usage: 12.2+ MB\n"
     ]
    }
   ],
   "source": [
    "df.info()"
   ]
  },
  {
   "cell_type": "markdown",
   "metadata": {},
   "source": [
    "# Lets look at each of the attributes.\n",
    "Basically these are transactions. We these transactions are flagged as 0 or 1.\n",
    "\n",
    "Transaction ID: The ids of each transation, primary key.  \n",
    "Date: The day the transaction occured.  \n",
    "Day of the Week: Which day the transaction happened  \n",
    "Type of Card: VI"
   ]
  },
  {
   "cell_type": "markdown",
   "metadata": {},
   "source": [
    "# Data Preprocessing\n",
    "### Data Cleaning\n",
    "  - time to pd date time \n",
    "  - Money to same currency, remove currency sign \n",
    "  - Capped values, Days in a year(365), Marks (100), Percentage (100)\n",
    "  \n"
   ]
  },
  {
   "cell_type": "markdown",
   "metadata": {},
   "source": []
  },
  {
   "cell_type": "code",
   "execution_count": 477,
   "metadata": {},
   "outputs": [
    {
     "name": "stdout",
     "output_type": "stream",
     "text": [
      "<class 'pandas.core.frame.DataFrame'>\n",
      "Index: 99977 entries, 0 to 99999\n",
      "Data columns (total 16 columns):\n",
      " #   Column                  Non-Null Count  Dtype  \n",
      "---  ------                  --------------  -----  \n",
      " 0   Transaction ID          99977 non-null  object \n",
      " 1   Date                    99977 non-null  object \n",
      " 2   Day of Week             99977 non-null  object \n",
      " 3   Time_(h)                99977 non-null  int64  \n",
      " 4   Type of Card            99977 non-null  object \n",
      " 5   Entry Mode              99977 non-null  object \n",
      " 6   Amount                  99977 non-null  object \n",
      " 7   Type of Transaction     99977 non-null  object \n",
      " 8   Merchant Group          99977 non-null  object \n",
      " 9   Country of Transaction  99977 non-null  object \n",
      " 10  Shipping Address        99977 non-null  object \n",
      " 11  Country of Residence    99977 non-null  object \n",
      " 12  Gender                  99977 non-null  object \n",
      " 13  Age                     99977 non-null  float64\n",
      " 14  Bank                    99977 non-null  object \n",
      " 15  Fraud                   99977 non-null  int64  \n",
      "dtypes: float64(1), int64(2), object(13)\n",
      "memory usage: 13.0+ MB\n"
     ]
    }
   ],
   "source": [
    "\n",
    "\n",
    "# we can see there are missing values, it is not that much, so we are going to drop it.\n",
    "# renamin the column\n",
    "df.rename(columns= {'Time':'Time_(h)'}, inplace = True)\n",
    "# Lets get how many missing in each column\n",
    "df.isnull().sum()\n",
    "\n",
    "# Lets drop all column with the missing values\n",
    "df.dropna(inplace=True)\n",
    "df.info()\n",
    "\n",
    "# Lets see if there is any hidden missing values\n",
    "df['Amount'] = df['Amount'].str.replace('£','')"
   ]
  },
  {
   "cell_type": "code",
   "execution_count": 478,
   "metadata": {},
   "outputs": [
    {
     "name": "stdout",
     "output_type": "stream",
     "text": [
      "<class 'pandas.core.frame.DataFrame'>\n",
      "Index: 99977 entries, 0 to 99999\n",
      "Data columns (total 16 columns):\n",
      " #   Column                  Non-Null Count  Dtype         \n",
      "---  ------                  --------------  -----         \n",
      " 0   Transaction ID          99977 non-null  object        \n",
      " 1   Date                    99977 non-null  datetime64[ns]\n",
      " 2   Day of Week             99977 non-null  object        \n",
      " 3   Time_(h)                99977 non-null  int64         \n",
      " 4   Type of Card            99977 non-null  object        \n",
      " 5   Entry Mode              99977 non-null  object        \n",
      " 6   Amount                  99977 non-null  int64         \n",
      " 7   Type of Transaction     99977 non-null  object        \n",
      " 8   Merchant Group          99977 non-null  object        \n",
      " 9   Country of Transaction  99977 non-null  object        \n",
      " 10  Shipping Address        99977 non-null  object        \n",
      " 11  Country of Residence    99977 non-null  object        \n",
      " 12  Gender                  99977 non-null  object        \n",
      " 13  Age                     99977 non-null  float64       \n",
      " 14  Bank                    99977 non-null  object        \n",
      " 15  Fraud                   99977 non-null  bool          \n",
      "dtypes: bool(1), datetime64[ns](1), float64(1), int64(2), object(11)\n",
      "memory usage: 12.3+ MB\n"
     ]
    },
    {
     "name": "stderr",
     "output_type": "stream",
     "text": [
      "C:\\Users\\nafee\\AppData\\Local\\Temp\\ipykernel_79496\\2927696456.py:2: UserWarning: Could not infer format, so each element will be parsed individually, falling back to `dateutil`. To ensure parsing is consistent and as-expected, please specify a format.\n",
      "  df['Date'] = pd.to_datetime(df['Date'])\n"
     ]
    }
   ],
   "source": [
    "# Lets fix the data type.\n",
    "df['Date'] = pd.to_datetime(df['Date'])\n",
    "## Also look if the date is consistent\n",
    "\n",
    "df['Amount'] = df['Amount'].astype('int64')\n",
    "# lets remove all the strings in the amount column \n",
    "\n",
    "\n",
    "\n",
    "df['Fraud'] = df['Fraud'].astype('bool')\n",
    "\n",
    "df.info()\n",
    "\n"
   ]
  },
  {
   "cell_type": "markdown",
   "metadata": {},
   "source": [
    "EDA"
   ]
  },
  {
   "cell_type": "code",
   "execution_count": 479,
   "metadata": {},
   "outputs": [],
   "source": [
    "# One thing we can do is drop the real (0) transaction, and lets see what the dataset with fradulent transaction tell us about.\n",
    "df1 = df[df['Fraud'] == 1]\n",
    "df1 \n",
    "\n",
    "df1 = df1.drop(columns='Transaction ID')\n",
    "\n",
    "\n",
    "# Lets divide the categorical and numerical features. For easier access to the numerical calculations and data exploration.\n",
    "\n",
    "cat_feat = df.select_dtypes(include=(['object','category','bool'])).columns.to_list()\n",
    "num_feat = df.select_dtypes(include=(['float64','int64'])).columns.tolist()\n",
    "\n",
    "cat_feat1 = df1.select_dtypes(include=(['object','category','bool'])).columns.to_list()\n",
    "num_feat1 = df1.select_dtypes(include=(['float64','int64'])).columns.tolist()\n",
    "\n",
    "\n",
    "\n"
   ]
  },
  {
   "cell_type": "code",
   "execution_count": null,
   "metadata": {},
   "outputs": [],
   "source": []
  },
  {
   "cell_type": "markdown",
   "metadata": {},
   "source": [
    "Now that we have a dataset, with fully fradulent transaction, lets analyze the trends. "
   ]
  },
  {
   "cell_type": "code",
   "execution_count": 480,
   "metadata": {},
   "outputs": [
    {
     "data": {
      "text/html": [
       "<div>\n",
       "<style scoped>\n",
       "    .dataframe tbody tr th:only-of-type {\n",
       "        vertical-align: middle;\n",
       "    }\n",
       "\n",
       "    .dataframe tbody tr th {\n",
       "        vertical-align: top;\n",
       "    }\n",
       "\n",
       "    .dataframe thead th {\n",
       "        text-align: right;\n",
       "    }\n",
       "</style>\n",
       "<table border=\"1\" class=\"dataframe\">\n",
       "  <thead>\n",
       "    <tr style=\"text-align: right;\">\n",
       "      <th></th>\n",
       "      <th>Date</th>\n",
       "      <th>Day of Week</th>\n",
       "      <th>Time_(h)</th>\n",
       "      <th>Type of Card</th>\n",
       "      <th>Entry Mode</th>\n",
       "      <th>Amount</th>\n",
       "      <th>Type of Transaction</th>\n",
       "      <th>Merchant Group</th>\n",
       "      <th>Country of Transaction</th>\n",
       "      <th>Shipping Address</th>\n",
       "      <th>Country of Residence</th>\n",
       "      <th>Gender</th>\n",
       "      <th>Age</th>\n",
       "      <th>Bank</th>\n",
       "      <th>Fraud</th>\n",
       "    </tr>\n",
       "  </thead>\n",
       "  <tbody>\n",
       "  </tbody>\n",
       "</table>\n",
       "</div>"
      ],
      "text/plain": [
       "Empty DataFrame\n",
       "Columns: [Date, Day of Week, Time_(h), Type of Card, Entry Mode, Amount, Type of Transaction, Merchant Group, Country of Transaction, Shipping Address, Country of Residence, Gender, Age, Bank, Fraud]\n",
       "Index: []"
      ]
     },
     "execution_count": 480,
     "metadata": {},
     "output_type": "execute_result"
    }
   ],
   "source": [
    "# Lets analyze the numerical trends. \n",
    "\n",
    "# use a loop to get the summary statists.\n",
    "# for x in num_feat:\n",
    "#     # if x == 'Amount':\n",
    "#         print(df[x].describe())\n",
    "        \n",
    "# WE actually dont need the summary statistic, because we have the data wrangler.\n",
    "\n",
    "num_feat\n",
    "\n",
    "# Filter rows based on column: 'Entry Mode'\n",
    "dfx = df1.copy()\n",
    "dfx = df1[(df1['Entry Mode'] == \"CVC\") != (df1['Type of Transaction'] == \"Online\") ]\n",
    "\n",
    "dfx # that means CVC is Online transaction."
   ]
  },
  {
   "cell_type": "code",
   "execution_count": 481,
   "metadata": {},
   "outputs": [
    {
     "data": {
      "text/plain": [
       "count    7192.000000\n",
       "mean        9.104839\n",
       "std         7.077014\n",
       "min         0.000000\n",
       "25%         3.000000\n",
       "50%         7.000000\n",
       "75%        15.000000\n",
       "max        24.000000\n",
       "Name: Time_(h), dtype: float64"
      ]
     },
     "execution_count": 481,
     "metadata": {},
     "output_type": "execute_result"
    },
    {
     "data": {
      "image/png": "[encoded data removed]",
      "text/plain": [
       "<Figure size 640x480 with 1 Axes>"
      ]
     },
     "metadata": {},
     "output_type": "display_data"
    }
   ],
   "source": [
    "# ok, we dont know what the time feature is, so lets look at it.\n",
    "\n",
    "df1['Time_(h)'].describe() # the max is 24, hour of day is 24, could be day. \n",
    "#lets look at the histogram \n",
    "time_histo = sns.histplot(df1['Time_(h)'],bins = 100, stat ='probability', kde= True)\n",
    "time_histo # the transaction increased at after 7, so it could be 24 hour clock\n",
    "\n",
    "df1['Time_(h)'].describe()"
   ]
  },
  {
   "cell_type": "code",
   "execution_count": 482,
   "metadata": {},
   "outputs": [
    {
     "data": {
      "image/png": "[encoded data removed]",
      "text/plain": [
       "<Figure size 500x400 with 1 Axes>"
      ]
     },
     "metadata": {},
     "output_type": "display_data"
    },
    {
     "name": "stdout",
     "output_type": "stream",
     "text": [
      "52.07174638487208\n",
      "Fraudelent 3.7458615481560757 %\n"
     ]
    },
    {
     "name": "stderr",
     "output_type": "stream",
     "text": [
      "C:\\Users\\nafee\\AppData\\Local\\Temp\\ipykernel_79496\\2819001967.py:18: UserWarning: Boolean Series key will be reindexed to match DataFrame index.\n",
      "  tot_bf7 = (len(df2[df['Time_(h)']<=7])/len(df))*100\n"
     ]
    },
    {
     "data": {
      "text/plain": [
       "<Figure size 500x400 with 0 Axes>"
      ]
     },
     "metadata": {},
     "output_type": "display_data"
    },
    {
     "data": {
      "text/plain": [
       "<Figure size 500x400 with 0 Axes>"
      ]
     },
     "metadata": {},
     "output_type": "display_data"
    }
   ],
   "source": [
    "# Lets look at the distribution of the numerical features\n",
    "for x in num_feat1:\n",
    "    plt.figure(figsize=(5,4))\n",
    "    if x == 'Time_(h)':\n",
    "        sns.kdeplot(df1[x],shade = True)\n",
    "        plt.title('Density of when transaction happened')\n",
    "        plt.xlabel('Time') \n",
    "        plt.ylabel('Density')\n",
    "        plt.show() \n",
    "        \n",
    "# % of fraud before 6am\n",
    "df2 = df1\n",
    "fd_tr_7 = df2[df1['Time_(h)']<=7]\n",
    "fd = (len(fd_tr_7)/len(df1))*100\n",
    "print(fd)\n",
    "\n",
    "# lets see if the transaction itself is higher or not.\n",
    "tot_bf7 = (len(df2[df['Time_(h)']<=7])/len(df))*100\n",
    "print('Fraudelent',tot_bf7,'%')\n",
    "        \n",
    "###Inference\n",
    "## WE can see that most of the fraud transactaction happened after midnight.more then 50% happened before and at 7am.\n",
    "## we can also see that only 3% transaction occured before or at 7. This means that at night, the fraudlent transaction is higher."
   ]
  },
  {
   "cell_type": "markdown",
   "metadata": {},
   "source": [
    "Lets create a fraudelent + Normal pipeline. Where we will see:\n",
    "- When did the highest % of fraud transaction happened.\n",
    "- Which amount range was most\n",
    "- Transaction medium, which was highest and which had highest fraud rate.\n",
    "- Merchant type \n",
    "- which country of card\n",
    "- which country of transaction\n",
    "- Did they target any gender ?\n",
    "- Which age group\n",
    "- Which bank was most susceptible\n"
   ]
  },
  {
   "cell_type": "code",
   "execution_count": 483,
   "metadata": {},
   "outputs": [
    {
     "name": "stdout",
     "output_type": "stream",
     "text": [
      "79.12958843159066 number of transaction below 35 or equal\n",
      "['Online' 'POS' 'ATM']\n",
      "[44.48, 32.26, 23.26]\n",
      "[42.63, 33.07, 24.3]\n",
      "{'Online': 44.48, 'POS': 32.26, 'ATM': 23.26}\n",
      "<generator object <genexpr> at 0x000001B1A2E7A820>\n"
     ]
    },
    {
     "data": {
      "text/plain": [
       "Bank\n",
       "Barclays    31.88\n",
       "Metro       11.19\n",
       "Monzo       10.12\n",
       "Lloyds       9.64\n",
       "Barlcays     9.59\n",
       "Halifax      9.43\n",
       "HSBC         9.08\n",
       "RBS          9.07\n",
       "Name: count, dtype: float64"
      ]
     },
     "execution_count": 483,
     "metadata": {},
     "output_type": "execute_result"
    },
    {
     "data": {
      "image/png": "[encoded data removed]",
      "text/plain": [
       "<Figure size 640x480 with 1 Axes>"
      ]
     },
     "metadata": {},
     "output_type": "display_data"
    }
   ],
   "source": [
    "# lets see which amount was the highest in the transaction in the fraud dataset.\n",
    "# Amount_hist = sns.histplot(df['Amount'], bins = 30, kde = True)\n",
    "# Amount_hist\n",
    "\n",
    "# now lets see what was the most no of transaction before or at 7am \n",
    "# plt.figure(figsize=(10,20))\n",
    "Amount_hist1 = sns.histplot(fd_tr_7['Amount'], bins = 100,binwidth=5, kde = True)\n",
    "# Amount_hist1.set_xticks(np.arange(0,df['Amount'].max()+20, 10))\n",
    "\n",
    "Amount_hist1 # the highest amount of fraudlent transactions was below 35. \n",
    "# lets see how much did the it account for\n",
    "\n",
    "fd_tr_bl35 = df2[df1['Amount']<=35]\n",
    "fd1 = (len(fd_tr_bl35)/len(df1['Amount'])*100)\n",
    "print(fd1,'number of transaction below 35 or equal' )\n",
    "\n",
    "# We can see that about 80% of the fraud transaction was below 35.\n",
    "\n",
    "\n",
    "# lets look at the transaction medium \n",
    "tm = df1['Type of Transaction'].unique() # this gives distint values, whereas nunique gives no of distinct values.\n",
    "print(tm)\n",
    "# percentage of transaction contributed by each of the medium\n",
    "x = len( df1['Type of Transaction'])\n",
    "tm1 = [(len( df1[ df1['Type of Transaction'] == 'Online'])/x), \n",
    "       (len( df1[ df1['Type of Transaction'] =='POS'])/x), \n",
    "       (len( df1[ df1['Type of Transaction']== 'ATM'])/x)]\n",
    "\n",
    "tm1 = list(map(lambda x: round(x*100, 2), tm1))\n",
    "\n",
    "print(tm1)\n",
    "# Online has the highest transaction.\n",
    "#now lets look at how % of transaction by below 35 by each of the medium.\n",
    "\n",
    "x = len(fd_tr_bl35['Type of Transaction'])\n",
    "tm2 = [(len(fd_tr_bl35[fd_tr_bl35['Type of Transaction'] == 'Online'])/x), \n",
    "       (len(fd_tr_bl35[fd_tr_bl35['Type of Transaction'] =='POS'])/x), \n",
    "       (len(fd_tr_bl35[fd_tr_bl35['Type of Transaction' ]== 'ATM'])/x)]\n",
    "       \n",
    "tm2 = list(map(lambda x: round(x*100, 2), tm2))\n",
    "print(tm2)   \n",
    "\n",
    "trans = dict(zip(tm, tm1))\n",
    "print(trans)\n",
    "print(f\"With {key}: {value}\" for key, value in trans.items()) \n",
    "\n",
    "# merchant type \n",
    "df1['Merchant Group'].unique()\n",
    "\n",
    "# getting the % of each type of Merchant group\n",
    "# lets get the no of subjects in each class.\n",
    "mclas_count = df1['Merchant Group'].value_counts() # returns every class size.\n",
    "mclas_percent = round((mclas_count/len(df1['Merchant Group']))*100, 2)\n",
    "# mclas_percent = mclas_percent.tolist()\n",
    "mclas_percent\n",
    "\n",
    "# which country of orgin it was and the % of it\n",
    "origin_trans = df1['Country of Transaction'].value_counts()\n",
    "origin_trans_percent = round((origin_trans/len(df1))*100, 2)\n",
    "\n",
    "# which bank was most sucsceptible\n",
    "bank = df1['Bank'].value_counts()\n",
    "bank_percent = round((bank/len(df1))*100,2)\n",
    "bank_percent\n",
    "\n",
    "\n",
    "       \n"
   ]
  },
  {
   "cell_type": "code",
   "execution_count": 484,
   "metadata": {},
   "outputs": [
    {
     "name": "stdout",
     "output_type": "stream",
     "text": [
      "52.07% of fraudelent transaction is before before and at 7am\n",
      "The amount was pretty low, about 35\n",
      "79.13% of transaction was below 35,\n",
      "-------------------------------------------\n",
      "With Online: 44.48\n",
      "With POS: 32.26\n",
      "With ATM: 23.26\n",
      "Which means ppl with Online transaction contributed most to fraud\n",
      "The top mechants are Merchant Group\n",
      "Children       17.78\n",
      "Electronics    13.68\n",
      "Fashion        12.85\n",
      "Name: count, dtype: float64\n",
      "The origin of transaction is well distributed, with Country of Transaction\n",
      "India             21.93\n",
      "USA               21.66\n",
      "China             21.00\n",
      "Russia            20.58\n",
      "United Kingdom    14.84\n",
      "Name: count, dtype: float64\n",
      "the bank that was most susceptible was Bank\n",
      "Barclays    31.88\n",
      "Name: count, dtype: float64\n",
      "People of Uk were most victimised\n",
      "<class 'pandas.core.frame.DataFrame'>\n",
      "Index: 99977 entries, 0 to 99999\n",
      "Data columns (total 16 columns):\n",
      " #   Column                  Non-Null Count  Dtype         \n",
      "---  ------                  --------------  -----         \n",
      " 0   Transaction ID          99977 non-null  object        \n",
      " 1   Date                    99977 non-null  datetime64[ns]\n",
      " 2   Day of Week             99977 non-null  object        \n",
      " 3   Time_(h)                99977 non-null  int64         \n",
      " 4   Type of Card            99977 non-null  object        \n",
      " 5   Entry Mode              99977 non-null  object        \n",
      " 6   Amount                  99977 non-null  int64         \n",
      " 7   Type of Transaction     99977 non-null  object        \n",
      " 8   Merchant Group          99977 non-null  object        \n",
      " 9   Country of Transaction  99977 non-null  object        \n",
      " 10  Shipping Address        99977 non-null  object        \n",
      " 11  Country of Residence    99977 non-null  object        \n",
      " 12  Gender                  99977 non-null  object        \n",
      " 13  Age                     99977 non-null  float64       \n",
      " 14  Bank                    99977 non-null  object        \n",
      " 15  Fraud                   99977 non-null  bool          \n",
      "dtypes: bool(1), datetime64[ns](1), float64(1), int64(2), object(11)\n",
      "memory usage: 14.3+ MB\n"
     ]
    }
   ],
   "source": [
    "def Fraud_info(df):\n",
    "    print(f\"{fd:.2f}% of fraudelent transaction is before before and at 7am\")\n",
    "    print(f'The amount was pretty low, about 35')\n",
    "    print(f\"{fd1:.2f}% of transaction was below 35,\")\n",
    "    print('-------------------------------------------')\n",
    "    for key, value in trans.items():\n",
    "        print(f\"With {key}: {value}\")\n",
    "        \n",
    "    print(\"Which means ppl with Online transaction contributed most to fraud\")\n",
    "    print(f\"The top mechants are {mclas_percent.head(3)}\")\n",
    "    print(f\"The origin of transaction is well distributed, with {origin_trans_percent.head(5)}\")\n",
    "    print(f\"the bank that was most susceptible was {bank_percent.head(1)}\")\n",
    "    print(\"People of Uk were most victimised\")\n",
    "        \n",
    "\n",
    "    \n",
    "    \n",
    "    \n",
    "Fraud_info(df1)\n",
    "\n",
    "df.info()\n",
    "# "
   ]
  },
  {
   "cell_type": "markdown",
   "metadata": {},
   "source": [
    "day of week, type of card, rntry mode: low cardinality, nominal --> \n",
    "\n"
   ]
  },
  {
   "cell_type": "code",
   "execution_count": 485,
   "metadata": {},
   "outputs": [
    {
     "name": "stdout",
     "output_type": "stream",
     "text": [
      "['Time_(h)', 'Amount', 'Age']\n",
      "['Transaction ID', 'Day of Week', 'Type of Card', 'Entry Mode', 'Type of Transaction', 'Merchant Group', 'Country of Transaction', 'Shipping Address', 'Country of Residence', 'Gender', 'Bank', 'Fraud']\n",
      "<class 'pandas.core.frame.DataFrame'>\n",
      "Index: 99977 entries, 0 to 99999\n",
      "Data columns (total 16 columns):\n",
      " #   Column                  Non-Null Count  Dtype         \n",
      "---  ------                  --------------  -----         \n",
      " 0   Transaction ID          99977 non-null  object        \n",
      " 1   Date                    99977 non-null  datetime64[ns]\n",
      " 2   Day of Week             99977 non-null  int32         \n",
      " 3   Time_(h)                99977 non-null  int64         \n",
      " 4   Type of Card            99977 non-null  int32         \n",
      " 5   Entry Mode              99977 non-null  int32         \n",
      " 6   Amount                  99977 non-null  float64       \n",
      " 7   Type of Transaction     99977 non-null  int32         \n",
      " 8   Merchant Group          99977 non-null  int32         \n",
      " 9   Country of Transaction  99977 non-null  int32         \n",
      " 10  Shipping Address        99977 non-null  int32         \n",
      " 11  Country of Residence    99977 non-null  int32         \n",
      " 12  Gender                  99977 non-null  int32         \n",
      " 13  Age                     99977 non-null  float64       \n",
      " 14  Bank                    99977 non-null  int32         \n",
      " 15  Fraud                   99977 non-null  bool          \n",
      "dtypes: bool(1), datetime64[ns](1), float64(2), int32(10), int64(1), object(1)\n",
      "memory usage: 10.5+ MB\n"
     ]
    }
   ],
   "source": [
    "# getting the feature importance \n",
    "from sklearn.preprocessing import LabelEncoder, LabelBinarizer, OneHotEncoder, OrdinalEncoder, RobustScaler\n",
    "import category_encoders as ce\n",
    "\n",
    "# encoding the numerical features first\n",
    "\n",
    "\n",
    "\n",
    "\n",
    "# encoding the numerical features first\n",
    "print(num_feat1)\n",
    "\n",
    "rs = RobustScaler()\n",
    "df['Amount'] = np.log(df['Amount']) ## it is a ML algo, so dual [[]]\n",
    "# for age, mean == median, normally distrubuted, so no need for scaling.\n",
    "cat_encode = ['Day of Week', 'Type of Card', 'Entry Mode', 'Type of Transaction', \n",
    "              'Merchant Group', 'Country of Transaction', 'Shipping Address', \n",
    "              'Country of Residence', 'Gender', 'Bank']\n",
    "\n",
    "\n",
    "## encoding the categorical variable\n",
    "# using label encoder\n",
    "label = {}\n",
    "\n",
    "for x in cat_encode:\n",
    "    le = LabelEncoder() # make a object\n",
    "    df[x] = le.fit_transform(df[x]) # from the list , take one feature\n",
    "    label[x] = le\n",
    "\n",
    "\n",
    "\n",
    "\n",
    "print(cat_feat)\n",
    "\n",
    "\n",
    "df.info()\n",
    "\n",
    "\n",
    "# encoding the variable \n"
   ]
  },
  {
   "cell_type": "code",
   "execution_count": 486,
   "metadata": {},
   "outputs": [
    {
     "name": "stdout",
     "output_type": "stream",
     "text": [
      "[0.00773893 0.339988   0.01124266 0.01941059 0.09520408 0.01212159\n",
      " 0.04154958 0.13709823 0.08999307 0.16035357 0.01409185 0.04762404\n",
      " 0.0235838 ]\n"
     ]
    },
    {
     "data": {
      "text/html": [
       "<div>\n",
       "<style scoped>\n",
       "    .dataframe tbody tr th:only-of-type {\n",
       "        vertical-align: middle;\n",
       "    }\n",
       "\n",
       "    .dataframe tbody tr th {\n",
       "        vertical-align: top;\n",
       "    }\n",
       "\n",
       "    .dataframe thead th {\n",
       "        text-align: right;\n",
       "    }\n",
       "</style>\n",
       "<table border=\"1\" class=\"dataframe\">\n",
       "  <thead>\n",
       "    <tr style=\"text-align: right;\">\n",
       "      <th></th>\n",
       "      <th>Feature</th>\n",
       "      <th>Importance</th>\n",
       "    </tr>\n",
       "  </thead>\n",
       "  <tbody>\n",
       "    <tr>\n",
       "      <th>1</th>\n",
       "      <td>Time_(h)</td>\n",
       "      <td>34</td>\n",
       "    </tr>\n",
       "    <tr>\n",
       "      <th>9</th>\n",
       "      <td>Country of Residence</td>\n",
       "      <td>16</td>\n",
       "    </tr>\n",
       "    <tr>\n",
       "      <th>7</th>\n",
       "      <td>Country of Transaction</td>\n",
       "      <td>14</td>\n",
       "    </tr>\n",
       "    <tr>\n",
       "      <th>4</th>\n",
       "      <td>Amount</td>\n",
       "      <td>10</td>\n",
       "    </tr>\n",
       "    <tr>\n",
       "      <th>8</th>\n",
       "      <td>Shipping Address</td>\n",
       "      <td>9</td>\n",
       "    </tr>\n",
       "    <tr>\n",
       "      <th>11</th>\n",
       "      <td>Age</td>\n",
       "      <td>5</td>\n",
       "    </tr>\n",
       "    <tr>\n",
       "      <th>6</th>\n",
       "      <td>Merchant Group</td>\n",
       "      <td>4</td>\n",
       "    </tr>\n",
       "    <tr>\n",
       "      <th>3</th>\n",
       "      <td>Entry Mode</td>\n",
       "      <td>2</td>\n",
       "    </tr>\n",
       "    <tr>\n",
       "      <th>12</th>\n",
       "      <td>Bank</td>\n",
       "      <td>2</td>\n",
       "    </tr>\n",
       "    <tr>\n",
       "      <th>0</th>\n",
       "      <td>Day of Week</td>\n",
       "      <td>1</td>\n",
       "    </tr>\n",
       "    <tr>\n",
       "      <th>2</th>\n",
       "      <td>Type of Card</td>\n",
       "      <td>1</td>\n",
       "    </tr>\n",
       "    <tr>\n",
       "      <th>5</th>\n",
       "      <td>Type of Transaction</td>\n",
       "      <td>1</td>\n",
       "    </tr>\n",
       "    <tr>\n",
       "      <th>10</th>\n",
       "      <td>Gender</td>\n",
       "      <td>1</td>\n",
       "    </tr>\n",
       "  </tbody>\n",
       "</table>\n",
       "</div>"
      ],
      "text/plain": [
       "                   Feature  Importance\n",
       "1                 Time_(h)          34\n",
       "9     Country of Residence          16\n",
       "7   Country of Transaction          14\n",
       "4                   Amount          10\n",
       "8         Shipping Address           9\n",
       "11                     Age           5\n",
       "6           Merchant Group           4\n",
       "3               Entry Mode           2\n",
       "12                    Bank           2\n",
       "0              Day of Week           1\n",
       "2             Type of Card           1\n",
       "5      Type of Transaction           1\n",
       "10                  Gender           1"
      ]
     },
     "execution_count": 486,
     "metadata": {},
     "output_type": "execute_result"
    }
   ],
   "source": [
    "# now trying to find feature importance \n",
    "from sklearn.model_selection import train_test_split\n",
    "from sklearn.ensemble import RandomForestClassifier\n",
    "\n",
    "# feature and traget variable\n",
    "df = df.drop(columns = 'Date')\n",
    "df = df.drop(columns = 'Transaction ID')\n",
    "\n",
    "df = pd.DataFrame(df)\n",
    "X = df.drop(columns=['Fraud'])\n",
    "y = df['Fraud']\n",
    "\n",
    "X_train, X_test, y_train, y_test = train_test_split(X, y, test_size= 0.3, random_state= 42)\n",
    "\n",
    "# getting the model \n",
    "model = RandomForestClassifier()\n",
    "model.fit(X_train, y_train)\n",
    "\n",
    "\n",
    "#fim = feature importance \n",
    "fim = model.feature_importances_\n",
    "print(fim)\n",
    "# Creating a dataframe for better visualization \n",
    "fim = list(map(lambda x: round(x*100), fim ))\n",
    "\n",
    "fim_df = pd.DataFrame(\n",
    "    {\n",
    "    'Feature': X.columns,\n",
    "    'Importance': fim\n",
    "\n",
    "    }\n",
    ")\n",
    "\n",
    "fim_df = fim_df.sort_values(by ='Importance', ascending=False)\n",
    "fim_df"
   ]
  },
  {
   "cell_type": "markdown",
   "metadata": {},
   "source": [
    "### EDA Conclusion and Proposed Solutions\n",
    "\n",
    "**Problem 1: Time and Amount of Fraudulent Transactions**\n",
    "- **Findings**:\n",
    "  - 52.07% of fraudulent transactions occur before or at 7 AM.\n",
    "  - The transaction amounts are generally low, about 35.\n",
    "  - 79.13% of transactions are below 35.\n",
    "- **Solution**:\n",
    "  - Implement a flagging system for transactions in the morning (before 7 AM) that are below 35. This can help in early detection and prevention of potential fraud.\n",
    "\n",
    "**Problem 2: Online Transactions and Merchants Contributing to Fraud**\n",
    "- **Findings**:\n",
    "  - A significant portion of fraudulent transactions are online.\n",
    "  - Top merchants involved:\n",
    "    - **Children's Products**: 17.78%\n",
    "    - **Electronics**: 13%\n",
    "- **Solution**:\n",
    "  - Enhance monitoring and verification processes for online transactions, particularly those related to these merchant categories.\n",
    "  - Implement stricter security measures, such as requiring additional verification steps for high-risk merchant categories.\n",
    "\n",
    "**Additional Insights:**\n",
    "- **CVC Code Usage**:\n",
    "  - All online transactions are done by entering the CVC code. No CVC is used outside of online transactions.\n",
    "- **Origin of Transactions**:\n",
    "  - The origin of transactions is fairly distributed among four countries, suggesting that all four are suspicious.\n",
    "  - 98% of the cardholders' origins are from the UK, indicating that hackers are primarily targeting residents of the UK.\n",
    "- **Feature Importance Analysis (Using Random Forest Classifier)**:\n",
    "  - **Time of Transaction**: The time of the transaction is a critical factor. Monitoring transactions occurring between midnight and 7 AM can help identify potential fraud.\n",
    "  - **Transaction Amount**: The transaction amount is also a significant indicator, with amounts below 35 comprising 80% of fraudulent transactions. \n",
    "\n",
    "### Refined Solutions:\n",
    "1. **Enhanced Flagging System**:\n",
    "   - Develop a dynamic flagging system that not only flags transactions based on time and amount but also considers patterns in merchant categories and geographic origin.\n",
    "   \n",
    "2. **Stricter Verification for Online Transactions**:\n",
    "   - Implement multi-factor authentication (MFA) for online transactions, especially for high-risk categories and during high-risk time frames.\n",
    "   \n",
    "3. **Geographic Monitoring**:\n",
    "   - Increase scrutiny of transactions originating from the identified suspicious countries.\n",
    "   - Implement additional verification for transactions where the origin does not match the typical behavior of the cardholder.\n",
    "   \n",
    "4. **Focus on UK Residents**:\n",
    "   - Deploy targeted security measures to protect UK residents, such as anomaly detection and enhanced security checks.\n",
    "\n",
    "\n",
    "\n",
    "## things to look for\n",
    "- it is an imbalanced dataset, so make sure to validate it with resampling. \n"
   ]
  },
  {
   "cell_type": "code",
   "execution_count": 487,
   "metadata": {},
   "outputs": [
    {
     "data": {
      "text/html": [
       "<div>\n",
       "<style scoped>\n",
       "    .dataframe tbody tr th:only-of-type {\n",
       "        vertical-align: middle;\n",
       "    }\n",
       "\n",
       "    .dataframe tbody tr th {\n",
       "        vertical-align: top;\n",
       "    }\n",
       "\n",
       "    .dataframe thead th {\n",
       "        text-align: right;\n",
       "    }\n",
       "</style>\n",
       "<table border=\"1\" class=\"dataframe\">\n",
       "  <thead>\n",
       "    <tr style=\"text-align: right;\">\n",
       "      <th></th>\n",
       "      <th>Day of Week</th>\n",
       "      <th>Time_(h)</th>\n",
       "      <th>Type of Card</th>\n",
       "      <th>Entry Mode</th>\n",
       "      <th>Amount</th>\n",
       "      <th>Type of Transaction</th>\n",
       "      <th>Merchant Group</th>\n",
       "      <th>Country of Transaction</th>\n",
       "      <th>Shipping Address</th>\n",
       "      <th>Country of Residence</th>\n",
       "      <th>Gender</th>\n",
       "      <th>Age</th>\n",
       "      <th>Bank</th>\n",
       "      <th>Fraud</th>\n",
       "    </tr>\n",
       "  </thead>\n",
       "  <tbody>\n",
       "  </tbody>\n",
       "</table>\n",
       "</div>"
      ],
      "text/plain": [
       "Empty DataFrame\n",
       "Columns: [Day of Week, Time_(h), Type of Card, Entry Mode, Amount, Type of Transaction, Merchant Group, Country of Transaction, Shipping Address, Country of Residence, Gender, Age, Bank, Fraud]\n",
       "Index: []"
      ]
     },
     "execution_count": 487,
     "metadata": {},
     "output_type": "execute_result"
    }
   ],
   "source": [
    "df = df[df['Entry Mode'] ==\"CVC\"]\n",
    "df   # shit, getting 0 because, it is encoded."
   ]
  },
  {
   "cell_type": "code",
   "execution_count": null,
   "metadata": {},
   "outputs": [],
   "source": []
  }
 ],
 "metadata": {
  "kernelspec": {
   "display_name": "ML",
   "language": "python",
   "name": "python3"
  },
  "language_info": {
   "codemirror_mode": {
    "name": "ipython",
    "version": 3
   },
   "file_extension": ".py",
   "mimetype": "text/x-python",
   "name": "python",
   "nbconvert_exporter": "python",
   "pygments_lexer": "ipython3",
   "version": "3.8.19"
  }
 },
 "nbformat": 4,
 "nbformat_minor": 2
}
